{
  "nbformat": 4,
  "nbformat_minor": 0,
  "metadata": {
    "colab": {
      "provenance": [],
      "authorship_tag": "ABX9TyPdR25IJdEma6Zge38mwYVy",
      "include_colab_link": true
    },
    "kernelspec": {
      "name": "python3",
      "display_name": "Python 3"
    },
    "language_info": {
      "name": "python"
    }
  },
  "cells": [
    {
      "cell_type": "markdown",
      "metadata": {
        "id": "view-in-github",
        "colab_type": "text"
      },
      "source": [
        "<a href=\"https://colab.research.google.com/github/Luzve/Credit_Card_Customers/blob/main/Credit__Card_Customers.ipynb\" target=\"_parent\"><img src=\"https://colab.research.google.com/assets/colab-badge.svg\" alt=\"Open In Colab\"/></a>"
      ]
    },
    {
      "cell_type": "markdown",
      "source": [
        "# Instalar librerías"
      ],
      "metadata": {
        "id": "C7uJZthtXXcW"
      }
    },
    {
      "cell_type": "code",
      "source": [
        "!pip install pyspark\n",
        "!pip install -q kaggle"
      ],
      "metadata": {
        "colab": {
          "base_uri": "https://localhost:8080/"
        },
        "id": "JFSOSBFnXj_f",
        "outputId": "24d7c39c-7290-4153-dc94-6fab09b3734e"
      },
      "execution_count": null,
      "outputs": [
        {
          "output_type": "stream",
          "name": "stdout",
          "text": [
            "Collecting pyspark\n",
            "  Downloading pyspark-3.4.1.tar.gz (310.8 MB)\n",
            "\u001b[2K     \u001b[90m━━━━━━━━━━━━━━━━━━━━━━━━━━━━━━━━━━━━━━━\u001b[0m \u001b[32m310.8/310.8 MB\u001b[0m \u001b[31m3.3 MB/s\u001b[0m eta \u001b[36m0:00:00\u001b[0m\n",
            "\u001b[?25h  Preparing metadata (setup.py) ... \u001b[?25l\u001b[?25hdone\n",
            "Requirement already satisfied: py4j==0.10.9.7 in /usr/local/lib/python3.10/dist-packages (from pyspark) (0.10.9.7)\n",
            "Building wheels for collected packages: pyspark\n",
            "  Building wheel for pyspark (setup.py) ... \u001b[?25l\u001b[?25hdone\n",
            "  Created wheel for pyspark: filename=pyspark-3.4.1-py2.py3-none-any.whl size=311285398 sha256=d7b0636f104f85a0e1e0af9923809d4c6ff6220ad3fc08724c46dfeb8d8f2cb6\n",
            "  Stored in directory: /root/.cache/pip/wheels/0d/77/a3/ff2f74cc9ab41f8f594dabf0579c2a7c6de920d584206e0834\n",
            "Successfully built pyspark\n",
            "Installing collected packages: pyspark\n",
            "Successfully installed pyspark-3.4.1\n"
          ]
        }
      ]
    },
    {
      "cell_type": "markdown",
      "source": [
        "# Importar librerías"
      ],
      "metadata": {
        "id": "M-hr_TyfgDBy"
      }
    },
    {
      "cell_type": "code",
      "source": [
        "from pyspark.sql import functions as F\n",
        "from pyspark.sql import SparkSession\n",
        "from pyspark.sql.functions import col, avg, sum\n",
        "from pyspark.sql.types import DoubleType\n",
        "from pyspark.sql.types import *\n",
        "import zipfile\n",
        "import os\n",
        "import pandas as pd\n"
      ],
      "metadata": {
        "id": "KIdoTnDlX2UK"
      },
      "execution_count": null,
      "outputs": []
    },
    {
      "cell_type": "markdown",
      "source": [
        "# Creación de una sesión con Spark"
      ],
      "metadata": {
        "id": "uYFjTm50trC-"
      }
    },
    {
      "cell_type": "code",
      "source": [
        "#Iniciar conexión de spark\n",
        "spark = SparkSession.builder\\\n",
        "        .master(\"local\")\\\n",
        "        .appName(\"Colab\")\\\n",
        "        .config('spark.ui.port', '4050')\\\n",
        "        .getOrCreate()\n"
      ],
      "metadata": {
        "id": "wCinzfGOtnaJ"
      },
      "execution_count": null,
      "outputs": []
    },
    {
      "cell_type": "markdown",
      "source": [
        "# Conexión con kaggle para descargar los datos\n",
        "Para descargar datos desde Kaggle es necesario crear un token de acceso. Para esto debes seguir los siguientes pasos:\n",
        "\n",
        "1. Ingresa a tu perfil de kaggle\n",
        "2. Seleccionar Account y bajar hasta la opción API\n",
        "3. Dar click en Create New API Token y se descargará un archivo JSON con tus credenciales\n",
        "4. Subir el archivo JSON a Colab Notebook"
      ],
      "metadata": {
        "id": "gHQ4D1I1-leC"
      }
    },
    {
      "cell_type": "code",
      "source": [
        "# Creamos carpeta oculta en ambiente de linux sobre colab\n",
        "!mkdir ~/.kaggle"
      ],
      "metadata": {
        "id": "_ii8tckM-3lO"
      },
      "execution_count": null,
      "outputs": []
    },
    {
      "cell_type": "code",
      "source": [
        "# Copiar el archivo JSON  a la carpeta oculta que creamos\n",
        "!cp kaggle.json ~/.kaggle/"
      ],
      "metadata": {
        "colab": {
          "base_uri": "https://localhost:8080/"
        },
        "id": "Vo4hHepsliT4",
        "outputId": "2f25d33c-21c2-44b3-81f7-599bb4dd9f06"
      },
      "execution_count": null,
      "outputs": [
        {
          "output_type": "stream",
          "name": "stdout",
          "text": [
            "cp: cannot stat 'kaggle.json': No such file or directory\n"
          ]
        }
      ]
    },
    {
      "cell_type": "code",
      "source": [
        "# Cambiamos los permisos para permitir lectura de las credenciales\n",
        "!chmod 600 ~/.kaggle/kaggle.json"
      ],
      "metadata": {
        "id": "_jRaSKBs_8a3"
      },
      "execution_count": null,
      "outputs": []
    },
    {
      "cell_type": "code",
      "source": [
        "# Descargamos archivos indicando el usuario del propietario de los datos en kaggle y el nombre de dataset\n",
        "!kaggle datasets download sakshigoyal7/credit-card-customers --force"
      ],
      "metadata": {
        "id": "1kxgXXWOFXSj",
        "colab": {
          "base_uri": "https://localhost:8080/"
        },
        "outputId": "89c548a7-9410-4aec-cc36-b6aa17250231"
      },
      "execution_count": null,
      "outputs": [
        {
          "output_type": "stream",
          "name": "stdout",
          "text": [
            "Downloading credit-card-customers.zip to /content\n",
            "100% 379k/379k [00:00<00:00, 749kB/s]\n",
            "100% 379k/379k [00:00<00:00, 749kB/s]\n"
          ]
        }
      ]
    },
    {
      "cell_type": "code",
      "source": [
        "# Descomprimir el archivo\n",
        "for file in os.listdir():\n",
        "    if file.endswith('.zip'):\n",
        "      zip_ref = zipfile.ZipFile(file, 'r')\n",
        "      zip_ref.extractall()\n",
        "      zip_ref.close()\n"
      ],
      "metadata": {
        "id": "EQ9yZC3Ymo8W"
      },
      "execution_count": null,
      "outputs": []
    },
    {
      "cell_type": "markdown",
      "source": [
        "# Lectura de datos"
      ],
      "metadata": {
        "id": "Uen_DQgNmytY"
      }
    },
    {
      "cell_type": "code",
      "source": [
        "df = spark.read.csv('/content/BankChurners.csv', header=True)"
      ],
      "metadata": {
        "id": "LUyeYcXjm1gn"
      },
      "execution_count": null,
      "outputs": []
    },
    {
      "cell_type": "code",
      "source": [
        "!cp BankChurners.csv '/content/drive/MyDrive/datasets'"
      ],
      "metadata": {
        "id": "Fkoh7wTOnXrA",
        "colab": {
          "base_uri": "https://localhost:8080/"
        },
        "outputId": "cf00cc38-33af-47cb-b707-6239ab1831d3"
      },
      "execution_count": null,
      "outputs": [
        {
          "output_type": "stream",
          "name": "stdout",
          "text": [
            "cp: cannot create regular file '/content/drive/MyDrive/datasets': No such file or directory\n"
          ]
        }
      ]
    },
    {
      "cell_type": "markdown",
      "source": [
        "# Procesamiento de los datos"
      ],
      "metadata": {
        "id": "CRkWVn0aoaGW"
      }
    },
    {
      "cell_type": "markdown",
      "source": [
        "## Numero de fila y columnas"
      ],
      "metadata": {
        "id": "o5t4fUNioe72"
      }
    },
    {
      "cell_type": "code",
      "source": [
        "print((df.count(), len(df.columns)))"
      ],
      "metadata": {
        "id": "jmxkrI4gochO",
        "colab": {
          "base_uri": "https://localhost:8080/"
        },
        "outputId": "a4b8ac7f-5b7d-4d9d-ef54-8515475b973a"
      },
      "execution_count": null,
      "outputs": [
        {
          "output_type": "stream",
          "name": "stdout",
          "text": [
            "(10127, 23)\n"
          ]
        }
      ]
    },
    {
      "cell_type": "markdown",
      "source": [
        "# Ver muestra de los datos"
      ],
      "metadata": {
        "id": "qui2hDJXoutv"
      }
    },
    {
      "cell_type": "code",
      "source": [
        "df.show()"
      ],
      "metadata": {
        "id": "jy3z09KIo0bf",
        "colab": {
          "base_uri": "https://localhost:8080/"
        },
        "outputId": "e694ca49-2fe6-4c88-8755-9cf46c32409c"
      },
      "execution_count": null,
      "outputs": [
        {
          "output_type": "stream",
          "name": "stdout",
          "text": [
            "+---------+-----------------+------------+------+---------------+---------------+--------------+---------------+-------------+--------------+------------------------+----------------------+---------------------+------------+-------------------+---------------+--------------------+---------------+--------------+-------------------+---------------------+----------------------------------------------------------------------------------------------------------------------------------+----------------------------------------------------------------------------------------------------------------------------------+\n",
            "|CLIENTNUM|   Attrition_Flag|Customer_Age|Gender|Dependent_count|Education_Level|Marital_Status|Income_Category|Card_Category|Months_on_book|Total_Relationship_Count|Months_Inactive_12_mon|Contacts_Count_12_mon|Credit_Limit|Total_Revolving_Bal|Avg_Open_To_Buy|Total_Amt_Chng_Q4_Q1|Total_Trans_Amt|Total_Trans_Ct|Total_Ct_Chng_Q4_Q1|Avg_Utilization_Ratio|Naive_Bayes_Classifier_Attrition_Flag_Card_Category_Contacts_Count_12_mon_Dependent_count_Education_Level_Months_Inactive_12_mon_1|Naive_Bayes_Classifier_Attrition_Flag_Card_Category_Contacts_Count_12_mon_Dependent_count_Education_Level_Months_Inactive_12_mon_2|\n",
            "+---------+-----------------+------------+------+---------------+---------------+--------------+---------------+-------------+--------------+------------------------+----------------------+---------------------+------------+-------------------+---------------+--------------------+---------------+--------------+-------------------+---------------------+----------------------------------------------------------------------------------------------------------------------------------+----------------------------------------------------------------------------------------------------------------------------------+\n",
            "|768805383|Existing Customer|          45|     M|              3|    High School|       Married|    $60K - $80K|         Blue|            39|                       5|                     1|                    3|       12691|                777|          11914|               1.335|           1144|            42|              1.625|                0.061|                                                                                                                        9.3448e-05|                                                                                                                           0.99991|\n",
            "|818770008|Existing Customer|          49|     F|              5|       Graduate|        Single| Less than $40K|         Blue|            44|                       6|                     1|                    2|        8256|                864|           7392|               1.541|           1291|            33|              3.714|                0.105|                                                                                                                        5.6861e-05|                                                                                                                           0.99994|\n",
            "|713982108|Existing Customer|          51|     M|              3|       Graduate|       Married|   $80K - $120K|         Blue|            36|                       4|                     1|                    0|        3418|                  0|           3418|               2.594|           1887|            20|              2.333|                    0|                                                                                                                        2.1081e-05|                                                                                                                           0.99998|\n",
            "|769911858|Existing Customer|          40|     F|              4|    High School|       Unknown| Less than $40K|         Blue|            34|                       3|                     4|                    1|        3313|               2517|            796|               1.405|           1171|            20|              2.333|                 0.76|                                                                                                                        0.00013366|                                                                                                                           0.99987|\n",
            "|709106358|Existing Customer|          40|     M|              3|     Uneducated|       Married|    $60K - $80K|         Blue|            21|                       5|                     1|                    0|        4716|                  0|           4716|               2.175|            816|            28|                2.5|                    0|                                                                                                                        2.1676e-05|                                                                                                                           0.99998|\n",
            "|713061558|Existing Customer|          44|     M|              2|       Graduate|       Married|    $40K - $60K|         Blue|            36|                       3|                     1|                    2|        4010|               1247|           2763|               1.376|           1088|            24|              0.846|                0.311|                                                                                                                        5.5077e-05|                                                                                                                           0.99994|\n",
            "|810347208|Existing Customer|          51|     M|              4|        Unknown|       Married|        $120K +|         Gold|            46|                       6|                     1|                    3|       34516|               2264|          32252|               1.975|           1330|            31|              0.722|                0.066|                                                                                                                        0.00012303|                                                                                                                           0.99988|\n",
            "|818906208|Existing Customer|          32|     M|              0|    High School|       Unknown|    $60K - $80K|       Silver|            27|                       2|                     2|                    2|       29081|               1396|          27685|               2.204|           1538|            36|              0.714|                0.048|                                                                                                                        8.5795e-05|                                                                                                                           0.99991|\n",
            "|710930508|Existing Customer|          37|     M|              3|     Uneducated|        Single|    $60K - $80K|         Blue|            36|                       5|                     2|                    0|       22352|               2517|          19835|               3.355|           1350|            24|              1.182|                0.113|                                                                                                                        4.4796e-05|                                                                                                                           0.99996|\n",
            "|719661558|Existing Customer|          48|     M|              2|       Graduate|        Single|   $80K - $120K|         Blue|            36|                       6|                     3|                    3|       11656|               1677|           9979|               1.524|           1441|            32|              0.882|                0.144|                                                                                                                        0.00030251|                                                                                                                            0.9997|\n",
            "|708790833|Existing Customer|          42|     M|              5|     Uneducated|       Unknown|        $120K +|         Blue|            31|                       5|                     3|                    2|        6748|               1467|           5281|               0.831|           1201|            42|               0.68|                0.217|                                                                                                                        0.00019094|                                                                                                                           0.99981|\n",
            "|710821833|Existing Customer|          65|     M|              1|        Unknown|       Married|    $40K - $60K|         Blue|            54|                       6|                     2|                    3|        9095|               1587|           7508|               1.433|           1314|            26|              1.364|                0.174|                                                                                                                        0.00019751|                                                                                                                            0.9998|\n",
            "|710599683|Existing Customer|          56|     M|              1|        College|        Single|   $80K - $120K|         Blue|            36|                       3|                     6|                    0|       11751|                  0|          11751|               3.397|           1539|            17|               3.25|                    0|                                                                                                                        4.7799e-05|                                                                                                                           0.99995|\n",
            "|816082233|Existing Customer|          35|     M|              3|       Graduate|       Unknown|    $60K - $80K|         Blue|            30|                       5|                     1|                    3|        8547|               1666|           6881|               1.163|           1311|            33|                  2|                0.195|                                                                                                                        9.6126e-05|                                                                                                                            0.9999|\n",
            "|712396908|Existing Customer|          57|     F|              2|       Graduate|       Married| Less than $40K|         Blue|            48|                       5|                     2|                    2|        2436|                680|           1756|                1.19|           1570|            29|              0.611|                0.279|                                                                                                                        0.00011382|                                                                                                                           0.99989|\n",
            "|714885258|Existing Customer|          44|     M|              4|        Unknown|       Unknown|   $80K - $120K|         Blue|            37|                       5|                     1|                    2|        4234|                972|           3262|               1.707|           1348|            27|                1.7|                 0.23|                                                                                                                        6.3492e-05|                                                                                                                           0.99994|\n",
            "|709967358|Existing Customer|          48|     M|              4|  Post-Graduate|        Single|   $80K - $120K|         Blue|            36|                       6|                     2|                    3|       30367|               2362|          28005|               1.708|           1671|            27|              0.929|                0.078|                                                                                                                        0.00023623|                                                                                                                           0.99976|\n",
            "|753327333|Existing Customer|          41|     M|              3|        Unknown|       Married|   $80K - $120K|         Blue|            34|                       4|                     4|                    1|       13535|               1291|          12244|               0.653|           1028|            21|              1.625|                0.095|                                                                                                                        0.00014953|                                                                                                                           0.99985|\n",
            "|806160108|Existing Customer|          61|     M|              1|    High School|       Married|    $40K - $60K|         Blue|            56|                       2|                     2|                    3|        3193|               2517|            676|               1.831|           1336|            30|              1.143|                0.788|                                                                                                                        0.00017468|                                                                                                                           0.99983|\n",
            "|709327383|Existing Customer|          45|     F|              2|       Graduate|       Married|        Unknown|         Blue|            37|                       6|                     1|                    2|       14470|               1157|          13313|               0.966|           1207|            21|              0.909|                 0.08|                                                                                                                        5.5077e-05|                                                                                                                           0.99994|\n",
            "+---------+-----------------+------------+------+---------------+---------------+--------------+---------------+-------------+--------------+------------------------+----------------------+---------------------+------------+-------------------+---------------+--------------------+---------------+--------------+-------------------+---------------------+----------------------------------------------------------------------------------------------------------------------------------+----------------------------------------------------------------------------------------------------------------------------------+\n",
            "only showing top 20 rows\n",
            "\n"
          ]
        }
      ]
    },
    {
      "cell_type": "markdown",
      "source": [
        "# Esquema de los datos"
      ],
      "metadata": {
        "id": "vw5C2cJntUG1"
      }
    },
    {
      "cell_type": "code",
      "source": [
        "df.printSchema()"
      ],
      "metadata": {
        "colab": {
          "base_uri": "https://localhost:8080/"
        },
        "id": "GuZm7lbwtXxv",
        "outputId": "5e49c308-ed97-42ec-a8c1-c470d4e6758f"
      },
      "execution_count": null,
      "outputs": [
        {
          "output_type": "stream",
          "name": "stdout",
          "text": [
            "root\n",
            " |-- CLIENTNUM: string (nullable = true)\n",
            " |-- Attrition_Flag: string (nullable = true)\n",
            " |-- Customer_Age: string (nullable = true)\n",
            " |-- Gender: string (nullable = true)\n",
            " |-- Dependent_count: string (nullable = true)\n",
            " |-- Education_Level: string (nullable = true)\n",
            " |-- Marital_Status: string (nullable = true)\n",
            " |-- Income_Category: string (nullable = true)\n",
            " |-- Card_Category: string (nullable = true)\n",
            " |-- Months_on_book: string (nullable = true)\n",
            " |-- Total_Relationship_Count: string (nullable = true)\n",
            " |-- Months_Inactive_12_mon: string (nullable = true)\n",
            " |-- Contacts_Count_12_mon: string (nullable = true)\n",
            " |-- Credit_Limit: string (nullable = true)\n",
            " |-- Total_Revolving_Bal: string (nullable = true)\n",
            " |-- Avg_Open_To_Buy: string (nullable = true)\n",
            " |-- Total_Amt_Chng_Q4_Q1: string (nullable = true)\n",
            " |-- Total_Trans_Amt: string (nullable = true)\n",
            " |-- Total_Trans_Ct: string (nullable = true)\n",
            " |-- Total_Ct_Chng_Q4_Q1: string (nullable = true)\n",
            " |-- Avg_Utilization_Ratio: string (nullable = true)\n",
            " |-- Naive_Bayes_Classifier_Attrition_Flag_Card_Category_Contacts_Count_12_mon_Dependent_count_Education_Level_Months_Inactive_12_mon_1: string (nullable = true)\n",
            " |-- Naive_Bayes_Classifier_Attrition_Flag_Card_Category_Contacts_Count_12_mon_Dependent_count_Education_Level_Months_Inactive_12_mon_2: string (nullable = true)\n",
            "\n"
          ]
        }
      ]
    },
    {
      "cell_type": "markdown",
      "source": [
        "# Estadística descriptiva"
      ],
      "metadata": {
        "id": "SrKNDyDlv-u4"
      }
    },
    {
      "cell_type": "code",
      "source": [
        "df.describe().show()"
      ],
      "metadata": {
        "colab": {
          "base_uri": "https://localhost:8080/"
        },
        "id": "fgHMAdX0wCyI",
        "outputId": "f7ca9a78-2829-4ecb-ca51-825bd61d7f64"
      },
      "execution_count": null,
      "outputs": [
        {
          "output_type": "stream",
          "name": "stdout",
          "text": [
            "+-------+-------------------+-----------------+-----------------+------+------------------+---------------+--------------+---------------+-------------+------------------+------------------------+----------------------+---------------------+-----------------+-------------------+-----------------+--------------------+-----------------+-----------------+-------------------+---------------------+----------------------------------------------------------------------------------------------------------------------------------+----------------------------------------------------------------------------------------------------------------------------------+\n",
            "|summary|          CLIENTNUM|   Attrition_Flag|     Customer_Age|Gender|   Dependent_count|Education_Level|Marital_Status|Income_Category|Card_Category|    Months_on_book|Total_Relationship_Count|Months_Inactive_12_mon|Contacts_Count_12_mon|     Credit_Limit|Total_Revolving_Bal|  Avg_Open_To_Buy|Total_Amt_Chng_Q4_Q1|  Total_Trans_Amt|   Total_Trans_Ct|Total_Ct_Chng_Q4_Q1|Avg_Utilization_Ratio|Naive_Bayes_Classifier_Attrition_Flag_Card_Category_Contacts_Count_12_mon_Dependent_count_Education_Level_Months_Inactive_12_mon_1|Naive_Bayes_Classifier_Attrition_Flag_Card_Category_Contacts_Count_12_mon_Dependent_count_Education_Level_Months_Inactive_12_mon_2|\n",
            "+-------+-------------------+-----------------+-----------------+------+------------------+---------------+--------------+---------------+-------------+------------------+------------------------+----------------------+---------------------+-----------------+-------------------+-----------------+--------------------+-----------------+-----------------+-------------------+---------------------+----------------------------------------------------------------------------------------------------------------------------------+----------------------------------------------------------------------------------------------------------------------------------+\n",
            "|  count|              10127|            10127|            10127| 10127|             10127|          10127|         10127|          10127|        10127|             10127|                   10127|                 10127|                10127|            10127|              10127|            10127|               10127|            10127|            10127|              10127|                10127|                                                                                                                             10127|                                                                                                                             10127|\n",
            "|   mean|7.391776063336625E8|             null|46.32596030413745|  null|2.3462032191172115|           null|          null|           null|         null|35.928409203120374|      3.8125802310654686|    2.3411671768539546|   2.4553174681544387|8631.953698034848| 1162.8140614199665|7469.139636614887|  0.7599406536980376|4404.086303939963|64.85869457884863| 0.7122223758269962|   0.2748935518909845|                                                                                                                0.1599974639787803|                                                                                                                0.8400025708403275|\n",
            "| stddev|3.690378345023116E7|             null|8.016814032549046|  null|  1.29890834890379|           null|          null|           null|         null|  7.98641633087208|        1.55440786533883|    1.0106223994182844|   1.1062251426359249|9088.776650223148|  814.9873352357533|9090.685323679114|  0.2192067692307027|3397.129253557085|23.47257044923301|0.23808609133294137|  0.27569146925238736|                                                                                                               0.36530101238046947|                                                                                                               0.36530103711017936|\n",
            "|    min|          708082083|Attrited Customer|               26|     F|                 0|        College|      Divorced|        $120K +|         Blue|                13|                       1|                     0|                    0|            10001|                  0|               10|                   0|             1000|               10|                  0|                    0|                                                                                                                        0.00010018|                                                                                                                        0.00041998|\n",
            "|    max|          828343083|Existing Customer|               73|     M|                 5|        Unknown|       Unknown|        Unknown|       Silver|                56|                       6|                     6|                    6|             9995|                999|             9996|               3.397|              999|               99|              3.714|                0.999|                                                                                                                        9.9979e-05|                                                                                                                           0.99999|\n",
            "+-------+-------------------+-----------------+-----------------+------+------------------+---------------+--------------+---------------+-------------+------------------+------------------------+----------------------+---------------------+-----------------+-------------------+-----------------+--------------------+-----------------+-----------------+-------------------+---------------------+----------------------------------------------------------------------------------------------------------------------------------+----------------------------------------------------------------------------------------------------------------------------------+\n",
            "\n"
          ]
        }
      ]
    },
    {
      "cell_type": "markdown",
      "source": [
        "# Filtrar el dataset"
      ],
      "metadata": {
        "id": "isPIONYGwhqQ"
      }
    },
    {
      "cell_type": "code",
      "source": [
        "df.filter(df.Gender == \"F\").show()"
      ],
      "metadata": {
        "colab": {
          "base_uri": "https://localhost:8080/"
        },
        "id": "G0avDLJowlV4",
        "outputId": "978be676-6617-4dea-e90a-609c7e6298c5"
      },
      "execution_count": null,
      "outputs": [
        {
          "output_type": "stream",
          "name": "stdout",
          "text": [
            "+---------+-----------------+------------+------+---------------+---------------+--------------+---------------+-------------+--------------+------------------------+----------------------+---------------------+------------+-------------------+---------------+--------------------+---------------+--------------+-------------------+---------------------+----------------------------------------------------------------------------------------------------------------------------------+----------------------------------------------------------------------------------------------------------------------------------+\n",
            "|CLIENTNUM|   Attrition_Flag|Customer_Age|Gender|Dependent_count|Education_Level|Marital_Status|Income_Category|Card_Category|Months_on_book|Total_Relationship_Count|Months_Inactive_12_mon|Contacts_Count_12_mon|Credit_Limit|Total_Revolving_Bal|Avg_Open_To_Buy|Total_Amt_Chng_Q4_Q1|Total_Trans_Amt|Total_Trans_Ct|Total_Ct_Chng_Q4_Q1|Avg_Utilization_Ratio|Naive_Bayes_Classifier_Attrition_Flag_Card_Category_Contacts_Count_12_mon_Dependent_count_Education_Level_Months_Inactive_12_mon_1|Naive_Bayes_Classifier_Attrition_Flag_Card_Category_Contacts_Count_12_mon_Dependent_count_Education_Level_Months_Inactive_12_mon_2|\n",
            "+---------+-----------------+------------+------+---------------+---------------+--------------+---------------+-------------+--------------+------------------------+----------------------+---------------------+------------+-------------------+---------------+--------------------+---------------+--------------+-------------------+---------------------+----------------------------------------------------------------------------------------------------------------------------------+----------------------------------------------------------------------------------------------------------------------------------+\n",
            "|818770008|Existing Customer|          49|     F|              5|       Graduate|        Single| Less than $40K|         Blue|            44|                       6|                     1|                    2|        8256|                864|           7392|               1.541|           1291|            33|              3.714|                0.105|                                                                                                                        5.6861e-05|                                                                                                                           0.99994|\n",
            "|769911858|Existing Customer|          40|     F|              4|    High School|       Unknown| Less than $40K|         Blue|            34|                       3|                     4|                    1|        3313|               2517|            796|               1.405|           1171|            20|              2.333|                 0.76|                                                                                                                        0.00013366|                                                                                                                           0.99987|\n",
            "|712396908|Existing Customer|          57|     F|              2|       Graduate|       Married| Less than $40K|         Blue|            48|                       5|                     2|                    2|        2436|                680|           1756|                1.19|           1570|            29|              0.611|                0.279|                                                                                                                        0.00011382|                                                                                                                           0.99989|\n",
            "|709327383|Existing Customer|          45|     F|              2|       Graduate|       Married|        Unknown|         Blue|            37|                       6|                     1|                    2|       14470|               1157|          13313|               0.966|           1207|            21|              0.909|                 0.08|                                                                                                                        5.5077e-05|                                                                                                                           0.99994|\n",
            "|708508758|Attrited Customer|          62|     F|              0|       Graduate|       Married| Less than $40K|         Blue|            49|                       2|                     3|                    3|      1438.3|                  0|         1438.3|               1.047|            692|            16|                0.6|                    0|                                                                                                                           0.99616|                                                                                                                         0.0038363|\n",
            "|811604133|Existing Customer|          47|     F|              4|        Unknown|        Single| Less than $40K|         Blue|            36|                       3|                     3|                    2|        2492|               1560|            932|               0.573|           1126|            23|              0.353|                0.626|                                                                                                                        0.00020735|                                                                                                                           0.99979|\n",
            "|771071958|Existing Customer|          41|     F|              3|       Graduate|        Single| Less than $40K|         Blue|            28|                       6|                     1|                    2|        7768|               1669|           6099|               0.797|           1051|            22|              0.833|                0.215|                                                                                                                        5.7151e-05|                                                                                                                           0.99994|\n",
            "|718813833|Existing Customer|          44|     F|              3|     Uneducated|        Single|        Unknown|         Blue|            34|                       5|                     2|                    2|       10100|                  0|          10100|               0.525|           1052|            18|              1.571|                    0|                                                                                                                        0.00012144|                                                                                                                           0.99988|\n",
            "|788658483|Existing Customer|          53|     F|              2|        College|       Married| Less than $40K|         Blue|            38|                       5|                     2|                    3|        2650|               1490|           1160|                1.75|           1411|            28|                  1|                0.562|                                                                                                                        0.00018612|                                                                                                                           0.99981|\n",
            "|715318008|Existing Customer|          55|     F|              1|        College|        Single| Less than $40K|         Blue|            36|                       4|                     2|                    1|        3520|               1914|           1606|                0.51|           1407|            43|              0.483|                0.544|                                                                                                                        6.2639e-05|                                                                                                                           0.99994|\n",
            "|713962233|Existing Customer|          55|     F|              3|       Graduate|       Married| Less than $40K|         Blue|            36|                       6|                     2|                    3|        3035|               2298|            737|               1.724|           1877|            37|              1.176|                0.757|                                                                                                                        0.00019864|                                                                                                                            0.9998|\n",
            "|785432733|Existing Customer|          42|     F|              4|    High School|       Married| Less than $40K|         Gold|            36|                       2|                     3|                    3|       15433|                  0|          15433|               0.865|            966|            22|                1.2|                    0|                                                                                                                        0.00035532|                                                                                                                           0.99964|\n",
            "|715190283|Existing Customer|          57|     F|              1|       Graduate|       Unknown|    $40K - $60K|         Blue|            49|                       3|                     3|                    2|        3672|                886|           2786|                1.32|           1464|            28|              0.556|                0.241|                                                                                                                        0.00016883|                                                                                                                           0.99983|\n",
            "|708300483|Attrited Customer|          66|     F|              0|      Doctorate|       Married|        Unknown|         Blue|            56|                       5|                     4|                    3|        7882|                605|           7277|               1.052|            704|            16|              0.143|                0.077|                                                                                                                            0.9978|                                                                                                                        0.00219708|\n",
            "|773146383|Existing Customer|          50|     F|              1|        College|        Single|    $40K - $60K|       Silver|            43|                       3|                     2|                    3|       17304|               2517|          14787|               1.449|           1756|            33|                1.2|                0.145|                                                                                                                        0.00015785|                                                                                                                           0.99984|\n",
            "|720572508|Existing Customer|          38|     F|              4|       Graduate|        Single|        Unknown|         Blue|            28|                       2|                     3|                    3|        9830|               2055|           7775|               0.977|           1042|            23|              0.917|                0.209|                                                                                                                        0.00031726|                                                                                                                           0.99968|\n",
            "|720756708|Existing Customer|          52|     F|              3|        Unknown|       Married| Less than $40K|         Blue|            41|                       6|                     3|                    2|        2622|               1549|           1073|               1.321|           1878|            30|              1.143|                0.591|                                                                                                                        0.00020516|                                                                                                                           0.99979|\n",
            "|779471883|Attrited Customer|          54|     F|              1|       Graduate|       Married| Less than $40K|         Blue|            40|                       2|                     3|                    1|      1438.3|                808|          630.3|               0.997|            705|            19|                0.9|                0.562|                                                                                                                           0.99028|                                                                                                                           0.00972|\n",
            "|711525033|Existing Customer|          66|     F|              0|    High School|       Married| Less than $40K|         Blue|            54|                       3|                     4|                    2|        3171|               2179|            992|               1.224|           1946|            38|              1.923|                0.687|                                                                                                                        0.00018134|                                                                                                                           0.99982|\n",
            "|717891558|Existing Customer|          49|     F|              4|       Graduate|       Unknown| Less than $40K|         Blue|            36|                       6|                     4|                    2|        3298|               2200|           1098|               0.678|           1052|            32|                0.6|                0.667|                                                                                                                        0.00022797|                                                                                                                           0.99977|\n",
            "+---------+-----------------+------------+------+---------------+---------------+--------------+---------------+-------------+--------------+------------------------+----------------------+---------------------+------------+-------------------+---------------+--------------------+---------------+--------------+-------------------+---------------------+----------------------------------------------------------------------------------------------------------------------------------+----------------------------------------------------------------------------------------------------------------------------------+\n",
            "only showing top 20 rows\n",
            "\n"
          ]
        }
      ]
    },
    {
      "cell_type": "markdown",
      "source": [
        "# Ordenar el dataset"
      ],
      "metadata": {
        "id": "QBjngLbOx6db"
      }
    },
    {
      "cell_type": "code",
      "source": [
        "df.sort(F.col(\"Credit_Limit\").desc()).show(10)"
      ],
      "metadata": {
        "colab": {
          "base_uri": "https://localhost:8080/"
        },
        "id": "i1CR72BIx98A",
        "outputId": "451cfade-ac97-41e8-d102-b1203d5a3ca7"
      },
      "execution_count": null,
      "outputs": [
        {
          "output_type": "stream",
          "name": "stdout",
          "text": [
            "+---------+-----------------+------------+------+---------------+---------------+--------------+---------------+-------------+--------------+------------------------+----------------------+---------------------+------------+-------------------+---------------+--------------------+---------------+--------------+-------------------+---------------------+----------------------------------------------------------------------------------------------------------------------------------+----------------------------------------------------------------------------------------------------------------------------------+\n",
            "|CLIENTNUM|   Attrition_Flag|Customer_Age|Gender|Dependent_count|Education_Level|Marital_Status|Income_Category|Card_Category|Months_on_book|Total_Relationship_Count|Months_Inactive_12_mon|Contacts_Count_12_mon|Credit_Limit|Total_Revolving_Bal|Avg_Open_To_Buy|Total_Amt_Chng_Q4_Q1|Total_Trans_Amt|Total_Trans_Ct|Total_Ct_Chng_Q4_Q1|Avg_Utilization_Ratio|Naive_Bayes_Classifier_Attrition_Flag_Card_Category_Contacts_Count_12_mon_Dependent_count_Education_Level_Months_Inactive_12_mon_1|Naive_Bayes_Classifier_Attrition_Flag_Card_Category_Contacts_Count_12_mon_Dependent_count_Education_Level_Months_Inactive_12_mon_2|\n",
            "+---------+-----------------+------------+------+---------------+---------------+--------------+---------------+-------------+--------------+------------------------+----------------------+---------------------+------------+-------------------+---------------+--------------------+---------------+--------------+-------------------+---------------------+----------------------------------------------------------------------------------------------------------------------------------+----------------------------------------------------------------------------------------------------------------------------------+\n",
            "|779912283|Existing Customer|          49|     F|              3|       Graduate|        Single|    $40K - $60K|         Blue|            33|                       5|                     3|                    2|        9995|               1713|           8282|                0.96|           1172|            38|              0.462|                0.171|                                                                                                                        0.00018665|                                                                                                                           0.99981|\n",
            "|713144208|Attrited Customer|          51|     F|              0|    High School|       Married|        Unknown|         Blue|            42|                       1|                     4|                    4|        9989|                568|           9421|                0.52|           2053|            49|              0.485|                0.057|                                                                                                                           0.99808|                                                                                                                        0.00191756|\n",
            "|711595833|Existing Customer|          46|     M|              3|        College|       Married|    $60K - $80K|         Blue|            36|                       5|                     2|                    2|        9981|                807|           9174|               0.655|           1456|            30|              0.667|                0.081|                                                                                                                        0.00011483|                                                                                                                           0.99989|\n",
            "|779198133|Existing Customer|          45|     F|              3|    High School|      Divorced| Less than $40K|         Blue|            33|                       3|                     3|                    2|        9977|               2088|           7889|                0.65|           3530|            61|              0.743|                0.209|                                                                                                                        0.00018145|                                                                                                                           0.99982|\n",
            "|803418783|Existing Customer|          40|     M|              4|       Graduate|       Married|    $60K - $80K|         Blue|            35|                       5|                     4|                    1|        9974|               2185|           7789|               0.852|           4680|            87|              0.673|                0.219|                                                                                                                        0.00013749|                                                                                                                           0.99986|\n",
            "|716556258|Existing Customer|          50|     F|              3|      Doctorate|        Single| Less than $40K|         Blue|            39|                       6|                     1|                    3|        9966|                  0|           9966|               0.966|           4401|            60|              1.069|                    0|                                                                                                                         0.0001391|                                                                                                                           0.99986|\n",
            "|771894558|Existing Customer|          50|     M|              3|    High School|        Single|   $80K - $120K|         Blue|            39|                       4|                     1|                    4|        9964|               1559|           8405|               1.873|           1626|            25|              0.786|                0.156|                                                                                                                        0.00015942|                                                                                                                           0.99984|\n",
            "|711734508|Existing Customer|          55|     M|              2|       Graduate|       Married|   $80K - $120K|         Blue|            47|                       3|                     3|                    3|        9959|               1209|           8750|               0.548|           1584|            28|              0.273|                0.121|                                                                                                                        0.00030251|                                                                                                                            0.9997|\n",
            "|709108533|Existing Customer|          49|     M|              4|       Graduate|       Married|   $80K - $120K|         Blue|            29|                       2|                     2|                    3|        9959|               2216|           7743|               0.747|          15139|            90|              0.837|                0.223|                                                                                                                        0.00020077|                                                                                                                            0.9998|\n",
            "|708535158|Existing Customer|          39|     M|              2|  Post-Graduate|       Unknown|   $80K - $120K|         Blue|            29|                       1|                     1|                    3|        9959|               1501|           8458|               0.822|           8505|            86|              0.536|                0.151|                                                                                                                          0.000109|                                                                                                                           0.99989|\n",
            "+---------+-----------------+------------+------+---------------+---------------+--------------+---------------+-------------+--------------+------------------------+----------------------+---------------------+------------+-------------------+---------------+--------------------+---------------+--------------+-------------------+---------------------+----------------------------------------------------------------------------------------------------------------------------------+----------------------------------------------------------------------------------------------------------------------------------+\n",
            "only showing top 10 rows\n",
            "\n"
          ]
        }
      ]
    },
    {
      "cell_type": "markdown",
      "source": [
        "# Eliminar una columna:"
      ],
      "metadata": {
        "id": "6TvYy2P-y6qZ"
      }
    },
    {
      "cell_type": "code",
      "source": [
        "df = df.drop(\"Naive_Bayes_Classifier_Attrition_Flag_Card_Category_Contacts_Count_12_mon_Dependent_count_Education_Level_Months_Inactive_12_mon_1\")\n",
        "df.show(10)"
      ],
      "metadata": {
        "colab": {
          "base_uri": "https://localhost:8080/"
        },
        "id": "kySPlJ9Qy-MY",
        "outputId": "787c8f07-f04e-46e4-d517-4585b4aa27c6"
      },
      "execution_count": null,
      "outputs": [
        {
          "output_type": "stream",
          "name": "stdout",
          "text": [
            "+---------+-----------------+------------+------+---------------+---------------+--------------+---------------+-------------+--------------+------------------------+----------------------+---------------------+------------+-------------------+---------------+--------------------+---------------+--------------+-------------------+---------------------+----------------------------------------------------------------------------------------------------------------------------------+\n",
            "|CLIENTNUM|   Attrition_Flag|Customer_Age|Gender|Dependent_count|Education_Level|Marital_Status|Income_Category|Card_Category|Months_on_book|Total_Relationship_Count|Months_Inactive_12_mon|Contacts_Count_12_mon|Credit_Limit|Total_Revolving_Bal|Avg_Open_To_Buy|Total_Amt_Chng_Q4_Q1|Total_Trans_Amt|Total_Trans_Ct|Total_Ct_Chng_Q4_Q1|Avg_Utilization_Ratio|Naive_Bayes_Classifier_Attrition_Flag_Card_Category_Contacts_Count_12_mon_Dependent_count_Education_Level_Months_Inactive_12_mon_2|\n",
            "+---------+-----------------+------------+------+---------------+---------------+--------------+---------------+-------------+--------------+------------------------+----------------------+---------------------+------------+-------------------+---------------+--------------------+---------------+--------------+-------------------+---------------------+----------------------------------------------------------------------------------------------------------------------------------+\n",
            "|768805383|Existing Customer|          45|     M|              3|    High School|       Married|    $60K - $80K|         Blue|            39|                       5|                     1|                    3|       12691|                777|          11914|               1.335|           1144|            42|              1.625|                0.061|                                                                                                                           0.99991|\n",
            "|818770008|Existing Customer|          49|     F|              5|       Graduate|        Single| Less than $40K|         Blue|            44|                       6|                     1|                    2|        8256|                864|           7392|               1.541|           1291|            33|              3.714|                0.105|                                                                                                                           0.99994|\n",
            "|713982108|Existing Customer|          51|     M|              3|       Graduate|       Married|   $80K - $120K|         Blue|            36|                       4|                     1|                    0|        3418|                  0|           3418|               2.594|           1887|            20|              2.333|                    0|                                                                                                                           0.99998|\n",
            "|769911858|Existing Customer|          40|     F|              4|    High School|       Unknown| Less than $40K|         Blue|            34|                       3|                     4|                    1|        3313|               2517|            796|               1.405|           1171|            20|              2.333|                 0.76|                                                                                                                           0.99987|\n",
            "|709106358|Existing Customer|          40|     M|              3|     Uneducated|       Married|    $60K - $80K|         Blue|            21|                       5|                     1|                    0|        4716|                  0|           4716|               2.175|            816|            28|                2.5|                    0|                                                                                                                           0.99998|\n",
            "|713061558|Existing Customer|          44|     M|              2|       Graduate|       Married|    $40K - $60K|         Blue|            36|                       3|                     1|                    2|        4010|               1247|           2763|               1.376|           1088|            24|              0.846|                0.311|                                                                                                                           0.99994|\n",
            "|810347208|Existing Customer|          51|     M|              4|        Unknown|       Married|        $120K +|         Gold|            46|                       6|                     1|                    3|       34516|               2264|          32252|               1.975|           1330|            31|              0.722|                0.066|                                                                                                                           0.99988|\n",
            "|818906208|Existing Customer|          32|     M|              0|    High School|       Unknown|    $60K - $80K|       Silver|            27|                       2|                     2|                    2|       29081|               1396|          27685|               2.204|           1538|            36|              0.714|                0.048|                                                                                                                           0.99991|\n",
            "|710930508|Existing Customer|          37|     M|              3|     Uneducated|        Single|    $60K - $80K|         Blue|            36|                       5|                     2|                    0|       22352|               2517|          19835|               3.355|           1350|            24|              1.182|                0.113|                                                                                                                           0.99996|\n",
            "|719661558|Existing Customer|          48|     M|              2|       Graduate|        Single|   $80K - $120K|         Blue|            36|                       6|                     3|                    3|       11656|               1677|           9979|               1.524|           1441|            32|              0.882|                0.144|                                                                                                                            0.9997|\n",
            "+---------+-----------------+------------+------+---------------+---------------+--------------+---------------+-------------+--------------+------------------------+----------------------+---------------------+------------+-------------------+---------------+--------------------+---------------+--------------+-------------------+---------------------+----------------------------------------------------------------------------------------------------------------------------------+\n",
            "only showing top 10 rows\n",
            "\n"
          ]
        }
      ]
    },
    {
      "cell_type": "code",
      "source": [
        "df = df.drop(\"Naive_Bayes_Classifier_Attrition_Flag_Card_Category_Contacts_Count_12_mon_Dependent_count_Education_Level_Months_Inactive_12_mon_2\")\n",
        "df.show(10)"
      ],
      "metadata": {
        "colab": {
          "base_uri": "https://localhost:8080/"
        },
        "id": "tr_Ws0fu97Ye",
        "outputId": "ad5bafba-4d09-47fe-ddd6-fb25defce7b9"
      },
      "execution_count": null,
      "outputs": [
        {
          "output_type": "stream",
          "name": "stdout",
          "text": [
            "+---------+-----------------+------------+------+---------------+---------------+--------------+---------------+-------------+--------------+------------------------+----------------------+---------------------+------------+-------------------+---------------+--------------------+---------------+--------------+-------------------+---------------------+\n",
            "|CLIENTNUM|   Attrition_Flag|Customer_Age|Gender|Dependent_count|Education_Level|Marital_Status|Income_Category|Card_Category|Months_on_book|Total_Relationship_Count|Months_Inactive_12_mon|Contacts_Count_12_mon|Credit_Limit|Total_Revolving_Bal|Avg_Open_To_Buy|Total_Amt_Chng_Q4_Q1|Total_Trans_Amt|Total_Trans_Ct|Total_Ct_Chng_Q4_Q1|Avg_Utilization_Ratio|\n",
            "+---------+-----------------+------------+------+---------------+---------------+--------------+---------------+-------------+--------------+------------------------+----------------------+---------------------+------------+-------------------+---------------+--------------------+---------------+--------------+-------------------+---------------------+\n",
            "|768805383|Existing Customer|          45|     M|              3|    High School|       Married|    $60K - $80K|         Blue|            39|                       5|                     1|                    3|       12691|                777|          11914|               1.335|           1144|            42|              1.625|                0.061|\n",
            "|818770008|Existing Customer|          49|     F|              5|       Graduate|        Single| Less than $40K|         Blue|            44|                       6|                     1|                    2|        8256|                864|           7392|               1.541|           1291|            33|              3.714|                0.105|\n",
            "|713982108|Existing Customer|          51|     M|              3|       Graduate|       Married|   $80K - $120K|         Blue|            36|                       4|                     1|                    0|        3418|                  0|           3418|               2.594|           1887|            20|              2.333|                    0|\n",
            "|769911858|Existing Customer|          40|     F|              4|    High School|       Unknown| Less than $40K|         Blue|            34|                       3|                     4|                    1|        3313|               2517|            796|               1.405|           1171|            20|              2.333|                 0.76|\n",
            "|709106358|Existing Customer|          40|     M|              3|     Uneducated|       Married|    $60K - $80K|         Blue|            21|                       5|                     1|                    0|        4716|                  0|           4716|               2.175|            816|            28|                2.5|                    0|\n",
            "|713061558|Existing Customer|          44|     M|              2|       Graduate|       Married|    $40K - $60K|         Blue|            36|                       3|                     1|                    2|        4010|               1247|           2763|               1.376|           1088|            24|              0.846|                0.311|\n",
            "|810347208|Existing Customer|          51|     M|              4|        Unknown|       Married|        $120K +|         Gold|            46|                       6|                     1|                    3|       34516|               2264|          32252|               1.975|           1330|            31|              0.722|                0.066|\n",
            "|818906208|Existing Customer|          32|     M|              0|    High School|       Unknown|    $60K - $80K|       Silver|            27|                       2|                     2|                    2|       29081|               1396|          27685|               2.204|           1538|            36|              0.714|                0.048|\n",
            "|710930508|Existing Customer|          37|     M|              3|     Uneducated|        Single|    $60K - $80K|         Blue|            36|                       5|                     2|                    0|       22352|               2517|          19835|               3.355|           1350|            24|              1.182|                0.113|\n",
            "|719661558|Existing Customer|          48|     M|              2|       Graduate|        Single|   $80K - $120K|         Blue|            36|                       6|                     3|                    3|       11656|               1677|           9979|               1.524|           1441|            32|              0.882|                0.144|\n",
            "+---------+-----------------+------------+------+---------------+---------------+--------------+---------------+-------------+--------------+------------------------+----------------------+---------------------+------------+-------------------+---------------+--------------------+---------------+--------------+-------------------+---------------------+\n",
            "only showing top 10 rows\n",
            "\n"
          ]
        }
      ]
    },
    {
      "cell_type": "markdown",
      "source": [
        "# Eliminar datos nulos:"
      ],
      "metadata": {
        "id": "TbXXhZLs1_u7"
      }
    },
    {
      "cell_type": "code",
      "source": [
        "df = df.na.drop()\n",
        "df.show()"
      ],
      "metadata": {
        "colab": {
          "base_uri": "https://localhost:8080/"
        },
        "id": "h5oQ8hgT2CnX",
        "outputId": "7d903328-f617-4844-bc44-04c41b59100f"
      },
      "execution_count": null,
      "outputs": [
        {
          "output_type": "stream",
          "name": "stdout",
          "text": [
            "+---------+-----------------+------------+------+---------------+---------------+--------------+---------------+-------------+--------------+------------------------+----------------------+---------------------+------------+-------------------+---------------+--------------------+---------------+--------------+-------------------+---------------------+\n",
            "|CLIENTNUM|   Attrition_Flag|Customer_Age|Gender|Dependent_count|Education_Level|Marital_Status|Income_Category|Card_Category|Months_on_book|Total_Relationship_Count|Months_Inactive_12_mon|Contacts_Count_12_mon|Credit_Limit|Total_Revolving_Bal|Avg_Open_To_Buy|Total_Amt_Chng_Q4_Q1|Total_Trans_Amt|Total_Trans_Ct|Total_Ct_Chng_Q4_Q1|Avg_Utilization_Ratio|\n",
            "+---------+-----------------+------------+------+---------------+---------------+--------------+---------------+-------------+--------------+------------------------+----------------------+---------------------+------------+-------------------+---------------+--------------------+---------------+--------------+-------------------+---------------------+\n",
            "|768805383|Existing Customer|          45|     M|              3|    High School|       Married|    $60K - $80K|         Blue|            39|                       5|                     1|                    3|       12691|                777|          11914|               1.335|           1144|            42|              1.625|                0.061|\n",
            "|818770008|Existing Customer|          49|     F|              5|       Graduate|        Single| Less than $40K|         Blue|            44|                       6|                     1|                    2|        8256|                864|           7392|               1.541|           1291|            33|              3.714|                0.105|\n",
            "|713982108|Existing Customer|          51|     M|              3|       Graduate|       Married|   $80K - $120K|         Blue|            36|                       4|                     1|                    0|        3418|                  0|           3418|               2.594|           1887|            20|              2.333|                    0|\n",
            "|769911858|Existing Customer|          40|     F|              4|    High School|       Unknown| Less than $40K|         Blue|            34|                       3|                     4|                    1|        3313|               2517|            796|               1.405|           1171|            20|              2.333|                 0.76|\n",
            "|709106358|Existing Customer|          40|     M|              3|     Uneducated|       Married|    $60K - $80K|         Blue|            21|                       5|                     1|                    0|        4716|                  0|           4716|               2.175|            816|            28|                2.5|                    0|\n",
            "|713061558|Existing Customer|          44|     M|              2|       Graduate|       Married|    $40K - $60K|         Blue|            36|                       3|                     1|                    2|        4010|               1247|           2763|               1.376|           1088|            24|              0.846|                0.311|\n",
            "|810347208|Existing Customer|          51|     M|              4|        Unknown|       Married|        $120K +|         Gold|            46|                       6|                     1|                    3|       34516|               2264|          32252|               1.975|           1330|            31|              0.722|                0.066|\n",
            "|818906208|Existing Customer|          32|     M|              0|    High School|       Unknown|    $60K - $80K|       Silver|            27|                       2|                     2|                    2|       29081|               1396|          27685|               2.204|           1538|            36|              0.714|                0.048|\n",
            "|710930508|Existing Customer|          37|     M|              3|     Uneducated|        Single|    $60K - $80K|         Blue|            36|                       5|                     2|                    0|       22352|               2517|          19835|               3.355|           1350|            24|              1.182|                0.113|\n",
            "|719661558|Existing Customer|          48|     M|              2|       Graduate|        Single|   $80K - $120K|         Blue|            36|                       6|                     3|                    3|       11656|               1677|           9979|               1.524|           1441|            32|              0.882|                0.144|\n",
            "|708790833|Existing Customer|          42|     M|              5|     Uneducated|       Unknown|        $120K +|         Blue|            31|                       5|                     3|                    2|        6748|               1467|           5281|               0.831|           1201|            42|               0.68|                0.217|\n",
            "|710821833|Existing Customer|          65|     M|              1|        Unknown|       Married|    $40K - $60K|         Blue|            54|                       6|                     2|                    3|        9095|               1587|           7508|               1.433|           1314|            26|              1.364|                0.174|\n",
            "|710599683|Existing Customer|          56|     M|              1|        College|        Single|   $80K - $120K|         Blue|            36|                       3|                     6|                    0|       11751|                  0|          11751|               3.397|           1539|            17|               3.25|                    0|\n",
            "|816082233|Existing Customer|          35|     M|              3|       Graduate|       Unknown|    $60K - $80K|         Blue|            30|                       5|                     1|                    3|        8547|               1666|           6881|               1.163|           1311|            33|                  2|                0.195|\n",
            "|712396908|Existing Customer|          57|     F|              2|       Graduate|       Married| Less than $40K|         Blue|            48|                       5|                     2|                    2|        2436|                680|           1756|                1.19|           1570|            29|              0.611|                0.279|\n",
            "|714885258|Existing Customer|          44|     M|              4|        Unknown|       Unknown|   $80K - $120K|         Blue|            37|                       5|                     1|                    2|        4234|                972|           3262|               1.707|           1348|            27|                1.7|                 0.23|\n",
            "|709967358|Existing Customer|          48|     M|              4|  Post-Graduate|        Single|   $80K - $120K|         Blue|            36|                       6|                     2|                    3|       30367|               2362|          28005|               1.708|           1671|            27|              0.929|                0.078|\n",
            "|753327333|Existing Customer|          41|     M|              3|        Unknown|       Married|   $80K - $120K|         Blue|            34|                       4|                     4|                    1|       13535|               1291|          12244|               0.653|           1028|            21|              1.625|                0.095|\n",
            "|806160108|Existing Customer|          61|     M|              1|    High School|       Married|    $40K - $60K|         Blue|            56|                       2|                     2|                    3|        3193|               2517|            676|               1.831|           1336|            30|              1.143|                0.788|\n",
            "|709327383|Existing Customer|          45|     F|              2|       Graduate|       Married|        Unknown|         Blue|            37|                       6|                     1|                    2|       14470|               1157|          13313|               0.966|           1207|            21|              0.909|                 0.08|\n",
            "+---------+-----------------+------------+------+---------------+---------------+--------------+---------------+-------------+--------------+------------------------+----------------------+---------------------+------------+-------------------+---------------+--------------------+---------------+--------------+-------------------+---------------------+\n",
            "only showing top 20 rows\n",
            "\n"
          ]
        }
      ]
    },
    {
      "cell_type": "markdown",
      "source": [
        "# Análisis de Gastos y Transacciones"
      ],
      "metadata": {
        "id": "riofwebzHXWw"
      }
    },
    {
      "cell_type": "code",
      "source": [
        "# Calcular el promedio de transacciones por cliente\n",
        "promedio_transacciones = df.select(avg(col(\"Total_Trans_Ct\"))).first()[0]\n",
        "print(\"Promedio de transacciones por cliente:\", promedio_transacciones)"
      ],
      "metadata": {
        "id": "Sy4Papf43c5n",
        "colab": {
          "base_uri": "https://localhost:8080/"
        },
        "outputId": "5a804f53-c6a6-46ac-f320-5dc330ee1c28"
      },
      "execution_count": null,
      "outputs": [
        {
          "output_type": "stream",
          "name": "stdout",
          "text": [
            "Promedio de transacciones por cliente: 64.85869457884863\n"
          ]
        }
      ]
    },
    {
      "cell_type": "code",
      "source": [
        "# Calcular el gasto total por cliente\n",
        "gasto_total = df.select(sum(col(\"Total_Trans_Amt\"))).first()[0]\n",
        "print(\"Gasto total de todos los clientes:\", gasto_total)"
      ],
      "metadata": {
        "colab": {
          "base_uri": "https://localhost:8080/"
        },
        "id": "ObEdH9UDtGNX",
        "outputId": "764ec809-9d1f-4f96-c395-65616669f069"
      },
      "execution_count": null,
      "outputs": [
        {
          "output_type": "stream",
          "name": "stdout",
          "text": [
            "Gasto total de todos los clientes: 44600182.0\n"
          ]
        }
      ]
    },
    {
      "cell_type": "code",
      "source": [
        "# Calcular el gasto total por categoría de ingresos\n",
        "gasto_por_categoria = df.groupBy(\"Income_Category\").agg(sum(col(\"Total_Trans_Amt\")).alias(\"Total_Gasto\"))\n",
        "gasto_por_categoria.show()"
      ],
      "metadata": {
        "colab": {
          "base_uri": "https://localhost:8080/"
        },
        "id": "2sSNxxSktI-n",
        "outputId": "8a99a41f-4ea1-4137-e73a-6a149528d07d"
      },
      "execution_count": null,
      "outputs": [
        {
          "output_type": "stream",
          "name": "stdout",
          "text": [
            "+---------------+-----------+\n",
            "|Income_Category|Total_Gasto|\n",
            "+---------------+-----------+\n",
            "|        $120K +|  3292923.0|\n",
            "|    $60K - $80K|  6239899.0|\n",
            "|   $80K - $120K|  6881344.0|\n",
            "|        Unknown|  4761819.0|\n",
            "|    $40K - $60K|  7886058.0|\n",
            "| Less than $40K|1.5538139E7|\n",
            "+---------------+-----------+\n",
            "\n"
          ]
        }
      ]
    },
    {
      "cell_type": "code",
      "source": [
        "promedio_transacciones = df.groupBy(\"CLIENTNUM\").agg(avg(col(\"Total_Trans_Ct\")).alias(\"Promedio_Transacciones\"))\n",
        "promedio_transacciones.show()"
      ],
      "metadata": {
        "colab": {
          "base_uri": "https://localhost:8080/"
        },
        "id": "FPrNcsfwvhEZ",
        "outputId": "1d32ff3c-2b82-466c-8f18-f3244cdaf6aa"
      },
      "execution_count": null,
      "outputs": [
        {
          "output_type": "stream",
          "name": "stdout",
          "text": [
            "+---------+----------------------+\n",
            "|CLIENTNUM|Promedio_Transacciones|\n",
            "+---------+----------------------+\n",
            "|716568708|                  27.0|\n",
            "|824805858|                  49.0|\n",
            "|708134283|                  31.0|\n",
            "|721129383|                  42.0|\n",
            "|714940608|                  53.0|\n",
            "|771903033|                  40.0|\n",
            "|815472108|                  31.0|\n",
            "|812788233|                  43.0|\n",
            "|709150608|                  64.0|\n",
            "|710562258|                  47.0|\n",
            "|718468158|                  37.0|\n",
            "|716900433|                  61.0|\n",
            "|781013958|                  37.0|\n",
            "|719415858|                  71.0|\n",
            "|720706008|                  69.0|\n",
            "|787581858|                  59.0|\n",
            "|756727233|                  66.0|\n",
            "|716358033|                  65.0|\n",
            "|715849983|                  82.0|\n",
            "|709957158|                  65.0|\n",
            "+---------+----------------------+\n",
            "only showing top 20 rows\n",
            "\n"
          ]
        }
      ]
    },
    {
      "cell_type": "markdown",
      "source": [
        "# Spark SQL en Python"
      ],
      "metadata": {
        "id": "OGbgY7b-F3uP"
      }
    },
    {
      "cell_type": "markdown",
      "source": [
        "## Creación de vista del dataframe"
      ],
      "metadata": {
        "id": "UHYuPBWGF9n3"
      }
    },
    {
      "cell_type": "code",
      "source": [
        "df.createOrReplaceTempView(\"BankChurners\")"
      ],
      "metadata": {
        "id": "td1T4aQvF7hZ"
      },
      "execution_count": null,
      "outputs": []
    },
    {
      "cell_type": "markdown",
      "source": [
        "## Muestra de los datos"
      ],
      "metadata": {
        "id": "U6zah7YnHvXA"
      }
    },
    {
      "cell_type": "code",
      "source": [
        "spark.sql(\"SELECT COUNT(*) FROM BankChurners\").show()"
      ],
      "metadata": {
        "colab": {
          "base_uri": "https://localhost:8080/"
        },
        "id": "XHcI1ud0HuEC",
        "outputId": "f5c25584-9373-424e-e779-6d2d9cbd124c"
      },
      "execution_count": null,
      "outputs": [
        {
          "output_type": "stream",
          "name": "stdout",
          "text": [
            "+--------+\n",
            "|count(1)|\n",
            "+--------+\n",
            "|   10127|\n",
            "+--------+\n",
            "\n"
          ]
        }
      ]
    },
    {
      "cell_type": "markdown",
      "source": [
        " ## Valores únicos de una columna"
      ],
      "metadata": {
        "id": "aXaK8xSfIQSR"
      }
    },
    {
      "cell_type": "code",
      "source": [
        "spark.sql(\"SELECT DISTINCT Customer_Age FROM BankChurners\").show()"
      ],
      "metadata": {
        "colab": {
          "base_uri": "https://localhost:8080/"
        },
        "id": "qBaJ781pIShJ",
        "outputId": "1a21c32c-c3af-4d55-fd92-e18aa9826b9f"
      },
      "execution_count": null,
      "outputs": [
        {
          "output_type": "stream",
          "name": "stdout",
          "text": [
            "+------------+\n",
            "|Customer_Age|\n",
            "+------------+\n",
            "|          51|\n",
            "|          54|\n",
            "|          29|\n",
            "|          42|\n",
            "|          73|\n",
            "|          64|\n",
            "|          30|\n",
            "|          34|\n",
            "|          59|\n",
            "|          28|\n",
            "|          35|\n",
            "|          52|\n",
            "|          47|\n",
            "|          43|\n",
            "|          31|\n",
            "|          70|\n",
            "|          61|\n",
            "|          27|\n",
            "|          26|\n",
            "|          46|\n",
            "+------------+\n",
            "only showing top 20 rows\n",
            "\n"
          ]
        }
      ]
    },
    {
      "cell_type": "code",
      "source": [
        "spark.sql(\"SELECT AVG(Total_Trans_Ct) as avg_total_trans_ct FROM BankChurners\").show()"
      ],
      "metadata": {
        "colab": {
          "base_uri": "https://localhost:8080/"
        },
        "id": "-TsRY6zhIyrg",
        "outputId": "e88a432e-d142-4c56-8781-401923724b84"
      },
      "execution_count": null,
      "outputs": [
        {
          "output_type": "stream",
          "name": "stdout",
          "text": [
            "+------------------+\n",
            "|avg_total_trans_ct|\n",
            "+------------------+\n",
            "| 64.85869457884863|\n",
            "+------------------+\n",
            "\n"
          ]
        }
      ]
    }
  ]
}